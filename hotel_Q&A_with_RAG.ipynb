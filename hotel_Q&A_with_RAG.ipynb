{
 "cells": [
  {
   "cell_type": "code",
   "execution_count": 1,
   "metadata": {},
   "outputs": [],
   "source": [
    "import os\n",
    "import openai\n",
    "\n",
    "from langchain_chroma import Chroma\n",
    "from langchain_community.document_loaders import TextLoader\n",
    "from langchain_text_splitters import RecursiveCharacterTextSplitter\n",
    "from langchain_openai import OpenAIEmbeddings\n",
    "from langchain_openai import ChatOpenAI\n",
    "\n",
    "from dotenv import load_dotenv\n",
    "\n",
    "load_dotenv() \n",
    "\n",
    "openai.api_key  = os.environ['OPENAI_API_KEY']"
   ]
  },
  {
   "cell_type": "code",
   "execution_count": 2,
   "metadata": {},
   "outputs": [],
   "source": [
    "llm_name = \"gpt-3.5-turbo\"\n",
    "data_path = 'data/sorted_chat.txt'"
   ]
  },
  {
   "cell_type": "markdown",
   "metadata": {},
   "source": [
    "### Load data"
   ]
  },
  {
   "cell_type": "code",
   "execution_count": 3,
   "metadata": {},
   "outputs": [
    {
     "data": {
      "text/plain": [
       "1905"
      ]
     },
     "execution_count": 3,
     "metadata": {},
     "output_type": "execute_result"
    }
   ],
   "source": [
    "# load the document and split it into chunks\n",
    "loader = TextLoader(data_path)\n",
    "documents = loader.load()\n",
    "\n",
    "# split it into chunks\n",
    "text_splitter = RecursiveCharacterTextSplitter(chunk_size=500, chunk_overlap=50)\n",
    "docs = text_splitter.split_documents(documents)\n",
    "len(docs)"
   ]
  },
  {
   "cell_type": "code",
   "execution_count": 4,
   "metadata": {},
   "outputs": [],
   "source": [
    "persist_directory = 'docs/chroma/'\n",
    "embedding_function = OpenAIEmbeddings()"
   ]
  },
  {
   "cell_type": "markdown",
   "metadata": {},
   "source": [
    "### Create vector database and save it disk"
   ]
  },
  {
   "cell_type": "code",
   "execution_count": 5,
   "metadata": {},
   "outputs": [
    {
     "name": "stdout",
     "output_type": "stream",
     "text": [
      "Number of chuncks: 1905\n"
     ]
    }
   ],
   "source": [
    "# load it into Chroma and save to disk\n",
    "db = Chroma.from_documents(docs, embedding_function, persist_directory=persist_directory)\n",
    "\n",
    "print(f\"Number of chuncks: {db._collection.count()}\")"
   ]
  },
  {
   "cell_type": "markdown",
   "metadata": {},
   "source": [
    "### Check RAG chunks"
   ]
  },
  {
   "cell_type": "code",
   "execution_count": 6,
   "metadata": {},
   "outputs": [
    {
     "name": "stdout",
     "output_type": "stream",
     "text": [
      "2024-02-14 03:14:44 Natalia None: Отель в составе испанской сети, обеспечить поставки йогуртов вполне возможно, хамон можно доставить, а йогурты нет, ну, странно. В Riu под управлением тех же испанцев еще несколько лет назад проблем не было. Понятно, что инфодемия подкосила многих, но надо налаживать какие-то базовые моменты хотя бы.\n",
      "2024-02-14 05:09:18 Артём Б None: А сколько у вас детишек? И как часто вы ездите за границу?\n",
      "#####################\n",
      "2024-04-09 16:15:33 Anna Bakshaeva: Ребят, кто-то ездил на утренние экскурсии, брали завтрак с собой из отеля? Есть здесь как в других отелях боксы?\n",
      "2024-04-09 18:21:13 Elena Kazakova: Мы ездили в Тринидад в 6 утра. Брали с завтрака йогурт в бутылочках и круассаны, а с ужина бутерброды с колбасой. Кофе можете взять с собой в баре. Боксов нет!\n",
      "#####################\n",
      "2024-03-27 22:46:10 Оксана Власова: Добрый вечер.Поделитесь,пожалуйста,где покупали ром?Сигары?\n",
      "2024-03-28 04:04:52 Viktory M: Сколько вас было человек за эту сумму?\n",
      "Всем хорошего дня!\n",
      "Буду благодарна за фото 🙌🏻☀️\n",
      "Подскажите пожалуйста есть в столовой какие то йогурты, кефир? Чем можно накормить ребенка 1,5г\n",
      "2024-03-28 11:24:47 Levkina Evgeniya 🌍 ✈️: Здравствуйте! \n",
      "2024-03-28 11:43:06 Анна None: что-то типа йогуртов есть, вопрос в их съедобности\n",
      "#####################\n"
     ]
    }
   ],
   "source": [
    "# query it\n",
    "query = 'Есть ли в отеле йогурт?'\n",
    "docs = db.max_marginal_relevance_search(query, k=3, fetch_k=5)\n",
    "\n",
    "# print results\n",
    "for chunck in docs:\n",
    "    print(chunck.page_content)\n",
    "    print(\"#####################\")"
   ]
  },
  {
   "cell_type": "markdown",
   "metadata": {},
   "source": [
    "### Load vectordb from persist_directory saved above"
   ]
  },
  {
   "cell_type": "code",
   "execution_count": 7,
   "metadata": {},
   "outputs": [
    {
     "name": "stdout",
     "output_type": "stream",
     "text": [
      "1905\n"
     ]
    }
   ],
   "source": [
    "vectordb = Chroma(persist_directory=persist_directory, embedding_function=embedding_function)\n",
    "print(vectordb._collection.count())"
   ]
  },
  {
   "cell_type": "markdown",
   "metadata": {},
   "source": [
    "### Initialize LLM"
   ]
  },
  {
   "cell_type": "code",
   "execution_count": 8,
   "metadata": {},
   "outputs": [],
   "source": [
    "llm = ChatOpenAI(model_name=llm_name, temperature=0.2)"
   ]
  },
  {
   "cell_type": "markdown",
   "metadata": {},
   "source": [
    "### Run without memory"
   ]
  },
  {
   "cell_type": "code",
   "execution_count": 9,
   "metadata": {},
   "outputs": [
    {
     "data": {
      "text/plain": [
       "\"Yes, there are yogurts available in the hotel's restaurant. However, the guest mentioned that they are not from Spain, but rather some other type that they found to be chemically processed.\""
      ]
     },
     "execution_count": 9,
     "metadata": {},
     "output_type": "execute_result"
    }
   ],
   "source": [
    "# Build prompt\n",
    "from langchain.prompts import PromptTemplate\n",
    "template = \"\"\"\n",
    "You are a travel assistant for a major worldwide tourism company. You have access to customers chat of a given hotel. Here is the data: {context}\"\n",
    "Question: {question}\n",
    "Helpful Answer:\n",
    "\"\"\"\n",
    "\n",
    "QA_CHAIN_PROMPT = PromptTemplate(input_variables=[\"context\", \"question\"],template=template)\n",
    "\n",
    "# Run chain\n",
    "from langchain.chains import RetrievalQA\n",
    "\n",
    "query = 'Are there yogurts?'\n",
    "qa_chain = RetrievalQA.from_chain_type(llm,\n",
    "                                       retriever=vectordb.as_retriever(search_type=\"mmr\"),\n",
    "                                       return_source_documents=True,\n",
    "                                       chain_type_kwargs={\"prompt\": QA_CHAIN_PROMPT})\n",
    "\n",
    "\n",
    "result = qa_chain.invoke({\"query\": query})\n",
    "result[\"result\"]"
   ]
  },
  {
   "cell_type": "markdown",
   "metadata": {},
   "source": [
    "### Run with memory "
   ]
  },
  {
   "cell_type": "code",
   "execution_count": 10,
   "metadata": {},
   "outputs": [],
   "source": [
    "# add memory\n",
    "from langchain.memory import ConversationBufferMemory\n",
    "memory = ConversationBufferMemory(\n",
    "    memory_key=\"chat_history\",\n",
    "    return_messages=True\n",
    ")"
   ]
  },
  {
   "cell_type": "code",
   "execution_count": 11,
   "metadata": {},
   "outputs": [],
   "source": [
    "from langchain.chains import ConversationalRetrievalChain\n",
    "retriever=vectordb.as_retriever(search_type=\"mmr\")\n",
    "qa = ConversationalRetrievalChain.from_llm(\n",
    "    llm,\n",
    "    retriever=retriever,\n",
    "    memory=memory,\n",
    ")"
   ]
  },
  {
   "cell_type": "code",
   "execution_count": 12,
   "metadata": {},
   "outputs": [
    {
     "name": "stdout",
     "output_type": "stream",
     "text": [
      "Yes, there are yogurts available in the hotel restaurant.\n"
     ]
    }
   ],
   "source": [
    "question = 'Are there yogurts?'\n",
    "result = qa.invoke({\"question\": question})\n",
    "\n",
    "print(result['answer'])"
   ]
  },
  {
   "cell_type": "code",
   "execution_count": 13,
   "metadata": {},
   "outputs": [
    {
     "name": "stdout",
     "output_type": "stream",
     "text": [
      "Based on the context provided, it is unclear whether the yogurts are good or not. One person mentioned that there are yogurts available, but there is a question about their edibility.\n"
     ]
    }
   ],
   "source": [
    "question = \"Are they good?\"\n",
    "result = qa.invoke({\"question\": question})\n",
    "\n",
    "print(result['answer'])"
   ]
  },
  {
   "cell_type": "code",
   "execution_count": 14,
   "metadata": {},
   "outputs": [
    {
     "name": "stdout",
     "output_type": "stream",
     "text": [
      "Based on the provided information, other options available for breakfast might include yogurt in bottles, croissants, sandwiches with sausage, and smoothies made from papaya and guava. Additionally, there might be some chemical-tasting yogurts, water, lemonades, and tea. It seems like there is a limited selection of non-alcoholic beverages and breakfast items available.\n"
     ]
    }
   ],
   "source": [
    "question = \"What else can I eat for breakfast?\"\n",
    "result = qa.invoke({\"question\": question})\n",
    "\n",
    "print(result['answer'])"
   ]
  },
  {
   "cell_type": "code",
   "execution_count": null,
   "metadata": {},
   "outputs": [],
   "source": []
  }
 ],
 "metadata": {
  "kernelspec": {
   "display_name": ".venv_hotel",
   "language": "python",
   "name": "python3"
  },
  "language_info": {
   "codemirror_mode": {
    "name": "ipython",
    "version": 3
   },
   "file_extension": ".py",
   "mimetype": "text/x-python",
   "name": "python",
   "nbconvert_exporter": "python",
   "pygments_lexer": "ipython3",
   "version": "3.10.9"
  }
 },
 "nbformat": 4,
 "nbformat_minor": 2
}
